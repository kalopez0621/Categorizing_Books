{
 "cells": [
  {
   "cell_type": "markdown",
   "metadata": {},
   "source": [
    "# CAI 2820C - AI Applications Solutions\n",
    "\n",
    "## Spring 2025\n",
    "\n",
    "## Project 1 - Build a Streamlit App for Categorizing Books\n",
    "\n",
    "## Instructor: Claudio S. Castillo "
   ]
  },
  {
   "cell_type": "markdown",
   "metadata": {},
   "source": [
    "## Setting up the environment"
   ]
  },
  {
   "cell_type": "code",
   "execution_count": 9,
   "metadata": {},
   "outputs": [
    {
     "name": "stdout",
     "output_type": "stream",
     "text": [
      "Requirement already satisfied: pandas in c:\\users\\kalop\\appdata\\local\\programs\\python\\python312\\lib\\site-packages (2.2.3)\n",
      "Requirement already satisfied: scikit-learn in c:\\users\\kalop\\appdata\\local\\programs\\python\\python312\\lib\\site-packages (1.5.2)\n",
      "Requirement already satisfied: nltk in c:\\users\\kalop\\appdata\\local\\programs\\python\\python312\\lib\\site-packages (3.9.1)\n",
      "Requirement already satisfied: joblib in c:\\users\\kalop\\appdata\\local\\programs\\python\\python312\\lib\\site-packages (1.4.2)\n",
      "Requirement already satisfied: openpyxl in c:\\users\\kalop\\appdata\\local\\programs\\python\\python312\\lib\\site-packages (3.1.5)\n",
      "Requirement already satisfied: numpy>=1.26.0 in c:\\users\\kalop\\appdata\\local\\programs\\python\\python312\\lib\\site-packages (from pandas) (1.26.4)\n",
      "Requirement already satisfied: python-dateutil>=2.8.2 in c:\\users\\kalop\\appdata\\local\\programs\\python\\python312\\lib\\site-packages (from pandas) (2.9.0.post0)\n",
      "Requirement already satisfied: pytz>=2020.1 in c:\\users\\kalop\\appdata\\local\\programs\\python\\python312\\lib\\site-packages (from pandas) (2024.2)\n",
      "Requirement already satisfied: tzdata>=2022.7 in c:\\users\\kalop\\appdata\\local\\programs\\python\\python312\\lib\\site-packages (from pandas) (2024.2)\n",
      "Requirement already satisfied: scipy>=1.6.0 in c:\\users\\kalop\\appdata\\local\\programs\\python\\python312\\lib\\site-packages (from scikit-learn) (1.13.1)\n",
      "Requirement already satisfied: threadpoolctl>=3.1.0 in c:\\users\\kalop\\appdata\\local\\programs\\python\\python312\\lib\\site-packages (from scikit-learn) (3.5.0)\n",
      "Requirement already satisfied: click in c:\\users\\kalop\\appdata\\local\\programs\\python\\python312\\lib\\site-packages (from nltk) (8.1.7)\n",
      "Requirement already satisfied: regex>=2021.8.3 in c:\\users\\kalop\\appdata\\local\\programs\\python\\python312\\lib\\site-packages (from nltk) (2024.9.11)\n",
      "Requirement already satisfied: tqdm in c:\\users\\kalop\\appdata\\local\\programs\\python\\python312\\lib\\site-packages (from nltk) (4.66.5)\n",
      "Requirement already satisfied: et-xmlfile in c:\\users\\kalop\\appdata\\local\\programs\\python\\python312\\lib\\site-packages (from openpyxl) (2.0.0)\n",
      "Requirement already satisfied: six>=1.5 in c:\\users\\kalop\\appdata\\local\\programs\\python\\python312\\lib\\site-packages (from python-dateutil>=2.8.2->pandas) (1.16.0)\n",
      "Requirement already satisfied: colorama in c:\\users\\kalop\\appdata\\local\\programs\\python\\python312\\lib\\site-packages (from click->nltk) (0.4.6)\n"
     ]
    }
   ],
   "source": [
    "!pip install pandas scikit-learn nltk joblib openpyxl"
   ]
  },
  {
   "cell_type": "code",
   "execution_count": 31,
   "metadata": {},
   "outputs": [],
   "source": [
    "import pandas as pd\n",
    "from sklearn.feature_extraction.text import TfidfVectorizer\n",
    "from sklearn.cluster import KMeans  # Replace NMF with KMeans\n",
    "from nltk.corpus import stopwords\n",
    "from nltk.tokenize import word_tokenize\n",
    "import nltk\n",
    "\n",
    "import numpy as np\n",
    "import joblib\n",
    "import os\n"
   ]
  },
  {
   "cell_type": "markdown",
   "metadata": {},
   "source": [
    "## Collecting Data"
   ]
  },
  {
   "cell_type": "code",
   "execution_count": 15,
   "metadata": {},
   "outputs": [
    {
     "name": "stderr",
     "output_type": "stream",
     "text": [
      "[nltk_data] Downloading package punkt to\n",
      "[nltk_data]     C:\\Users\\kalop\\AppData\\Roaming\\nltk_data...\n",
      "[nltk_data]   Package punkt is already up-to-date!\n",
      "[nltk_data] Downloading package punkt_tab to\n",
      "[nltk_data]     C:\\Users\\kalop\\AppData\\Roaming\\nltk_data...\n",
      "[nltk_data]   Package punkt_tab is already up-to-date!\n",
      "[nltk_data] Downloading package stopwords to\n",
      "[nltk_data]     C:\\Users\\kalop\\AppData\\Roaming\\nltk_data...\n",
      "[nltk_data]   Package stopwords is already up-to-date!\n"
     ]
    },
    {
     "data": {
      "text/plain": [
       "True"
      ]
     },
     "execution_count": 15,
     "metadata": {},
     "output_type": "execute_result"
    }
   ],
   "source": [
    "nltk.download('punkt')\n",
    "nltk.download('punkt_tab')\n",
    "nltk.download('stopwords')"
   ]
  },
  {
   "cell_type": "code",
   "execution_count": 16,
   "metadata": {},
   "outputs": [],
   "source": [
    "# Load dataset\n",
    "dataset_path = \"AllITBooks_DataSet.xlsx\" \n",
    "data = pd.read_excel(dataset_path)"
   ]
  },
  {
   "cell_type": "code",
   "execution_count": 17,
   "metadata": {},
   "outputs": [
    {
     "name": "stderr",
     "output_type": "stream",
     "text": [
      "C:\\Users\\kalop\\AppData\\Local\\Temp\\ipykernel_20104\\1679740316.py:2: FutureWarning: A value is trying to be set on a copy of a DataFrame or Series through chained assignment using an inplace method.\n",
      "The behavior will change in pandas 3.0. This inplace method will never work because the intermediate object on which we are setting values always behaves as a copy.\n",
      "\n",
      "For example, when doing 'df[col].method(value, inplace=True)', try using 'df.method({col: value}, inplace=True)' or df[col] = df[col].method(value) instead, to perform the operation inplace on the original object.\n",
      "\n",
      "\n",
      "  data[\"Sub_title\"].fillna(\"\", inplace=True)\n"
     ]
    }
   ],
   "source": [
    "# Fill missing values in the subtitle\n",
    "data[\"Sub_title\"].fillna(\"\", inplace=True)"
   ]
  },
  {
   "cell_type": "code",
   "execution_count": 18,
   "metadata": {},
   "outputs": [
    {
     "data": {
      "text/html": [
       "<div>\n",
       "<style scoped>\n",
       "    .dataframe tbody tr th:only-of-type {\n",
       "        vertical-align: middle;\n",
       "    }\n",
       "\n",
       "    .dataframe tbody tr th {\n",
       "        vertical-align: top;\n",
       "    }\n",
       "\n",
       "    .dataframe thead th {\n",
       "        text-align: right;\n",
       "    }\n",
       "</style>\n",
       "<table border=\"1\" class=\"dataframe\">\n",
       "  <thead>\n",
       "    <tr style=\"text-align: right;\">\n",
       "      <th></th>\n",
       "      <th>Unnamed: 0</th>\n",
       "      <th>Book_name</th>\n",
       "      <th>Sub_title</th>\n",
       "      <th>Author</th>\n",
       "      <th>Year</th>\n",
       "      <th>Pages</th>\n",
       "      <th>Language</th>\n",
       "      <th>Size</th>\n",
       "      <th>Format</th>\n",
       "      <th>Description</th>\n",
       "      <th>Category</th>\n",
       "      <th>ConsolidatedText</th>\n",
       "    </tr>\n",
       "  </thead>\n",
       "  <tbody>\n",
       "    <tr>\n",
       "      <th>0</th>\n",
       "      <td>0</td>\n",
       "      <td>Pro ASP.NET Core 3, 8th. Edition</td>\n",
       "      <td>Develop Cloud-Ready Web Applications Using MVC...</td>\n",
       "      <td>Adam Freeman</td>\n",
       "      <td>2020</td>\n",
       "      <td>1400</td>\n",
       "      <td>English</td>\n",
       "      <td>38.3 MB</td>\n",
       "      <td>PDF, ePub</td>\n",
       "      <td>\\nBook Description:\\nThis bestselling comprehe...</td>\n",
       "      <td>ASP.NET</td>\n",
       "      <td>Pro ASP.NET Core 3, 8th. Edition Develop Cloud...</td>\n",
       "    </tr>\n",
       "    <tr>\n",
       "      <th>1</th>\n",
       "      <td>1</td>\n",
       "      <td>Modern Data Mining Algorithms in C++ and CUDA C</td>\n",
       "      <td>Recent Developments in Feature Extraction and ...</td>\n",
       "      <td>Timothy Masters</td>\n",
       "      <td>2020</td>\n",
       "      <td>237</td>\n",
       "      <td>English</td>\n",
       "      <td>2.3 MB</td>\n",
       "      <td>PDF, ePub</td>\n",
       "      <td>\\nBook Description:\\nDiscover a variety of dat...</td>\n",
       "      <td>C &amp; C++</td>\n",
       "      <td>Modern Data Mining Algorithms in C++ and CUDA ...</td>\n",
       "    </tr>\n",
       "    <tr>\n",
       "      <th>2</th>\n",
       "      <td>2</td>\n",
       "      <td>SAS Stored Processes</td>\n",
       "      <td>A Practical Guide to Developing Web Applications</td>\n",
       "      <td>Philip Mason</td>\n",
       "      <td>2020</td>\n",
       "      <td>338</td>\n",
       "      <td>English</td>\n",
       "      <td>11.2 MB</td>\n",
       "      <td>PDF, ePub</td>\n",
       "      <td>\\nBook Description:\\nCustomize the SAS Stored ...</td>\n",
       "      <td>Software</td>\n",
       "      <td>SAS Stored Processes A Practical Guide to Deve...</td>\n",
       "    </tr>\n",
       "    <tr>\n",
       "      <th>3</th>\n",
       "      <td>3</td>\n",
       "      <td>Advanced Perl Programming</td>\n",
       "      <td>From Advanced to Expert</td>\n",
       "      <td>William \"Bo\" Rothwell</td>\n",
       "      <td>2020</td>\n",
       "      <td>308</td>\n",
       "      <td>English</td>\n",
       "      <td>4.9 MB</td>\n",
       "      <td>PDF, ePub</td>\n",
       "      <td>\\nBook Description:\\nWilliam “Bo” Rothwell’s A...</td>\n",
       "      <td>Perl</td>\n",
       "      <td>Advanced Perl Programming From Advanced to Exp...</td>\n",
       "    </tr>\n",
       "    <tr>\n",
       "      <th>4</th>\n",
       "      <td>4</td>\n",
       "      <td>Articulate Storyline Essentials</td>\n",
       "      <td>Discover Articulate Storyline's ability to enh...</td>\n",
       "      <td>Ashley Chiasson</td>\n",
       "      <td>2015</td>\n",
       "      <td>180</td>\n",
       "      <td>English</td>\n",
       "      <td>8.8 MB</td>\n",
       "      <td>PDF</td>\n",
       "      <td>\\nBook Description:\\nStoryline is a powerful e...</td>\n",
       "      <td>Computers &amp; Technology</td>\n",
       "      <td>Articulate Storyline Essentials Discover Artic...</td>\n",
       "    </tr>\n",
       "  </tbody>\n",
       "</table>\n",
       "</div>"
      ],
      "text/plain": [
       "   Unnamed: 0                                        Book_name  \\\n",
       "0           0                 Pro ASP.NET Core 3, 8th. Edition   \n",
       "1           1  Modern Data Mining Algorithms in C++ and CUDA C   \n",
       "2           2                             SAS Stored Processes   \n",
       "3           3                        Advanced Perl Programming   \n",
       "4           4                  Articulate Storyline Essentials   \n",
       "\n",
       "                                           Sub_title                  Author  \\\n",
       "0  Develop Cloud-Ready Web Applications Using MVC...            Adam Freeman   \n",
       "1  Recent Developments in Feature Extraction and ...         Timothy Masters   \n",
       "2   A Practical Guide to Developing Web Applications            Philip Mason   \n",
       "3                            From Advanced to Expert   William \"Bo\" Rothwell   \n",
       "4  Discover Articulate Storyline's ability to enh...         Ashley Chiasson   \n",
       "\n",
       "    Year  Pages  Language      Size      Format  \\\n",
       "0   2020   1400   English   38.3 MB   PDF, ePub   \n",
       "1   2020    237   English    2.3 MB   PDF, ePub   \n",
       "2   2020    338   English   11.2 MB   PDF, ePub   \n",
       "3   2020    308   English    4.9 MB   PDF, ePub   \n",
       "4   2015    180   English    8.8 MB         PDF   \n",
       "\n",
       "                                         Description                 Category  \\\n",
       "0  \\nBook Description:\\nThis bestselling comprehe...                  ASP.NET   \n",
       "1  \\nBook Description:\\nDiscover a variety of dat...                  C & C++   \n",
       "2  \\nBook Description:\\nCustomize the SAS Stored ...                 Software   \n",
       "3  \\nBook Description:\\nWilliam “Bo” Rothwell’s A...                     Perl   \n",
       "4  \\nBook Description:\\nStoryline is a powerful e...   Computers & Technology   \n",
       "\n",
       "                                    ConsolidatedText  \n",
       "0  Pro ASP.NET Core 3, 8th. Edition Develop Cloud...  \n",
       "1  Modern Data Mining Algorithms in C++ and CUDA ...  \n",
       "2  SAS Stored Processes A Practical Guide to Deve...  \n",
       "3  Advanced Perl Programming From Advanced to Exp...  \n",
       "4  Articulate Storyline Essentials Discover Artic...  "
      ]
     },
     "execution_count": 18,
     "metadata": {},
     "output_type": "execute_result"
    }
   ],
   "source": [
    "# Combine important text fields into a single text column\n",
    "data[\"ConsolidatedText\"] = data[\"Book_name\"] + \" \" + data[\"Sub_title\"] + \" \" + data[\"Description\"]\n",
    "\n",
    "# Print the first few rows to verify\n",
    "data.head()"
   ]
  },
  {
   "cell_type": "code",
   "execution_count": 19,
   "metadata": {},
   "outputs": [
    {
     "data": {
      "text/plain": [
       "0       Pro ASP.NET Core 3, 8th. Edition Develop Cloud...\n",
       "1       Modern Data Mining Algorithms in C++ and CUDA ...\n",
       "2       SAS Stored Processes A Practical Guide to Deve...\n",
       "3       Advanced Perl Programming From Advanced to Exp...\n",
       "4       Articulate Storyline Essentials Discover Artic...\n",
       "                              ...                        \n",
       "8553    Dreamweaver CS6 Mobile and Web Development wit...\n",
       "8554    Beginning Amazon Web Services with Node.js  \\n...\n",
       "8555    Pro Grunt.js  \\nBook Description:\\nPro Grunt.j...\n",
       "8556    MongoDB Cookbook Over 80 practical recipes to ...\n",
       "8557    Foundation HTML5 with CSS3 A Modern Guide and ...\n",
       "Name: ConsolidatedText, Length: 8558, dtype: object"
      ]
     },
     "execution_count": 19,
     "metadata": {},
     "output_type": "execute_result"
    }
   ],
   "source": [
    "data[\"ConsolidatedText\"]"
   ]
  },
  {
   "cell_type": "code",
   "execution_count": 20,
   "metadata": {},
   "outputs": [
    {
     "data": {
      "text/plain": [
       "['under', 'where', 'wasn', 'o', 'can']"
      ]
     },
     "execution_count": 20,
     "metadata": {},
     "output_type": "execute_result"
    }
   ],
   "source": [
    "stop_words = set(stopwords.words('english'))\n",
    "list(stop_words)[:5]"
   ]
  },
  {
   "cell_type": "markdown",
   "metadata": {},
   "source": [
    "## Cleaning text"
   ]
  },
  {
   "cell_type": "code",
   "execution_count": 21,
   "metadata": {},
   "outputs": [],
   "source": [
    "# Function to preprocess text\n",
    "def preprocess_text(text):\n",
    "\n",
    "    text = str(text).lower()  # Convert to lowercase\n",
    "\n",
    "    tokens = word_tokenize(text)  # Tokenize text\n",
    "\n",
    "    filtered_tokens = [word for word in tokens if word.isalnum() and word not in stop_words]  # Remove stopwords and non-alphanumeric tokens\n",
    "    \n",
    "    return \" \".join(filtered_tokens)"
   ]
  },
  {
   "cell_type": "code",
   "execution_count": 22,
   "metadata": {},
   "outputs": [],
   "source": [
    "# Apply the cleaning function to the dataset\n",
    "data[\"CleanedDescription\"] = data[\"ConsolidatedText\"].apply(preprocess_text)"
   ]
  },
  {
   "cell_type": "code",
   "execution_count": 25,
   "metadata": {},
   "outputs": [
    {
     "data": {
      "text/html": [
       "<div>\n",
       "<style scoped>\n",
       "    .dataframe tbody tr th:only-of-type {\n",
       "        vertical-align: middle;\n",
       "    }\n",
       "\n",
       "    .dataframe tbody tr th {\n",
       "        vertical-align: top;\n",
       "    }\n",
       "\n",
       "    .dataframe thead th {\n",
       "        text-align: right;\n",
       "    }\n",
       "</style>\n",
       "<table border=\"1\" class=\"dataframe\">\n",
       "  <thead>\n",
       "    <tr style=\"text-align: right;\">\n",
       "      <th></th>\n",
       "      <th>ConsolidatedText</th>\n",
       "      <th>CleanedDescription</th>\n",
       "    </tr>\n",
       "  </thead>\n",
       "  <tbody>\n",
       "    <tr>\n",
       "      <th>0</th>\n",
       "      <td>Pro ASP.NET Core 3, 8th. Edition Develop Cloud...</td>\n",
       "      <td>pro core 3 8th edition develop web application...</td>\n",
       "    </tr>\n",
       "    <tr>\n",
       "      <th>1</th>\n",
       "      <td>Modern Data Mining Algorithms in C++ and CUDA ...</td>\n",
       "      <td>modern data mining algorithms cuda c recent de...</td>\n",
       "    </tr>\n",
       "    <tr>\n",
       "      <th>2</th>\n",
       "      <td>SAS Stored Processes A Practical Guide to Deve...</td>\n",
       "      <td>sas stored processes practical guide developin...</td>\n",
       "    </tr>\n",
       "    <tr>\n",
       "      <th>3</th>\n",
       "      <td>Advanced Perl Programming From Advanced to Exp...</td>\n",
       "      <td>advanced perl programming advanced expert book...</td>\n",
       "    </tr>\n",
       "    <tr>\n",
       "      <th>4</th>\n",
       "      <td>Articulate Storyline Essentials Discover Artic...</td>\n",
       "      <td>articulate storyline essentials discover artic...</td>\n",
       "    </tr>\n",
       "    <tr>\n",
       "      <th>...</th>\n",
       "      <td>...</td>\n",
       "      <td>...</td>\n",
       "    </tr>\n",
       "    <tr>\n",
       "      <th>8553</th>\n",
       "      <td>Dreamweaver CS6 Mobile and Web Development wit...</td>\n",
       "      <td>dreamweaver cs6 mobile web development html5 c...</td>\n",
       "    </tr>\n",
       "    <tr>\n",
       "      <th>8554</th>\n",
       "      <td>Beginning Amazon Web Services with Node.js  \\n...</td>\n",
       "      <td>beginning amazon web services book description...</td>\n",
       "    </tr>\n",
       "    <tr>\n",
       "      <th>8555</th>\n",
       "      <td>Pro Grunt.js  \\nBook Description:\\nPro Grunt.j...</td>\n",
       "      <td>pro book description pro gets quickly popular ...</td>\n",
       "    </tr>\n",
       "    <tr>\n",
       "      <th>8556</th>\n",
       "      <td>MongoDB Cookbook Over 80 practical recipes to ...</td>\n",
       "      <td>mongodb cookbook 80 practical recipes design d...</td>\n",
       "    </tr>\n",
       "    <tr>\n",
       "      <th>8557</th>\n",
       "      <td>Foundation HTML5 with CSS3 A Modern Guide and ...</td>\n",
       "      <td>foundation html5 css3 modern guide reference b...</td>\n",
       "    </tr>\n",
       "  </tbody>\n",
       "</table>\n",
       "<p>8558 rows × 2 columns</p>\n",
       "</div>"
      ],
      "text/plain": [
       "                                       ConsolidatedText  \\\n",
       "0     Pro ASP.NET Core 3, 8th. Edition Develop Cloud...   \n",
       "1     Modern Data Mining Algorithms in C++ and CUDA ...   \n",
       "2     SAS Stored Processes A Practical Guide to Deve...   \n",
       "3     Advanced Perl Programming From Advanced to Exp...   \n",
       "4     Articulate Storyline Essentials Discover Artic...   \n",
       "...                                                 ...   \n",
       "8553  Dreamweaver CS6 Mobile and Web Development wit...   \n",
       "8554  Beginning Amazon Web Services with Node.js  \\n...   \n",
       "8555  Pro Grunt.js  \\nBook Description:\\nPro Grunt.j...   \n",
       "8556  MongoDB Cookbook Over 80 practical recipes to ...   \n",
       "8557  Foundation HTML5 with CSS3 A Modern Guide and ...   \n",
       "\n",
       "                                     CleanedDescription  \n",
       "0     pro core 3 8th edition develop web application...  \n",
       "1     modern data mining algorithms cuda c recent de...  \n",
       "2     sas stored processes practical guide developin...  \n",
       "3     advanced perl programming advanced expert book...  \n",
       "4     articulate storyline essentials discover artic...  \n",
       "...                                                 ...  \n",
       "8553  dreamweaver cs6 mobile web development html5 c...  \n",
       "8554  beginning amazon web services book description...  \n",
       "8555  pro book description pro gets quickly popular ...  \n",
       "8556  mongodb cookbook 80 practical recipes design d...  \n",
       "8557  foundation html5 css3 modern guide reference b...  \n",
       "\n",
       "[8558 rows x 2 columns]"
      ]
     },
     "execution_count": 25,
     "metadata": {},
     "output_type": "execute_result"
    }
   ],
   "source": [
    "# Display before and after cleaning\n",
    "data[[\"ConsolidatedText\",\"CleanedDescription\"]]"
   ]
  },
  {
   "cell_type": "markdown",
   "metadata": {},
   "source": [
    "## Creating a word embedding"
   ]
  },
  {
   "cell_type": "code",
   "execution_count": 26,
   "metadata": {},
   "outputs": [],
   "source": [
    "# Define TF-IDF Vectorizer with a feature limit\n",
    "tfidf_vectorizer = TfidfVectorizer(max_features=500)\n",
    "\n",
    "# Transform the cleaned descriptions into a TF-IDF matrix\n",
    "tfidf_matrix = tfidf_vectorizer.fit_transform(data[\"CleanedDescription\"])"
   ]
  },
  {
   "cell_type": "code",
   "execution_count": 27,
   "metadata": {},
   "outputs": [],
   "source": [
    "# Get feature names (words in the vocabulary)\n",
    "feature_names = tfidf_vectorizer.get_feature_names_out()"
   ]
  },
  {
   "cell_type": "code",
   "execution_count": 28,
   "metadata": {},
   "outputs": [],
   "source": [
    "# Convert the TF-IDF matrix to a DataFrame for easier visualization\n",
    "tfidf_df = pd.DataFrame(tfidf_matrix.toarray(), columns=feature_names)"
   ]
  },
  {
   "cell_type": "code",
   "execution_count": 29,
   "metadata": {},
   "outputs": [
    {
     "data": {
      "text/html": [
       "<div>\n",
       "<style scoped>\n",
       "    .dataframe tbody tr th:only-of-type {\n",
       "        vertical-align: middle;\n",
       "    }\n",
       "\n",
       "    .dataframe tbody tr th {\n",
       "        vertical-align: top;\n",
       "    }\n",
       "\n",
       "    .dataframe thead th {\n",
       "        text-align: right;\n",
       "    }\n",
       "</style>\n",
       "<table border=\"1\" class=\"dataframe\">\n",
       "  <thead>\n",
       "    <tr style=\"text-align: right;\">\n",
       "      <th></th>\n",
       "      <th>2010</th>\n",
       "      <th>2012</th>\n",
       "      <th>2013</th>\n",
       "      <th>2nd</th>\n",
       "      <th>3d</th>\n",
       "      <th>able</th>\n",
       "      <th>access</th>\n",
       "      <th>across</th>\n",
       "      <th>action</th>\n",
       "      <th>add</th>\n",
       "      <th>...</th>\n",
       "      <th>wordpress</th>\n",
       "      <th>work</th>\n",
       "      <th>working</th>\n",
       "      <th>works</th>\n",
       "      <th>world</th>\n",
       "      <th>write</th>\n",
       "      <th>writing</th>\n",
       "      <th>written</th>\n",
       "      <th>xml</th>\n",
       "      <th>years</th>\n",
       "    </tr>\n",
       "  </thead>\n",
       "  <tbody>\n",
       "    <tr>\n",
       "      <th>0</th>\n",
       "      <td>0.0</td>\n",
       "      <td>0.0</td>\n",
       "      <td>0.0</td>\n",
       "      <td>0.0</td>\n",
       "      <td>0.0</td>\n",
       "      <td>0.000000</td>\n",
       "      <td>0.0</td>\n",
       "      <td>0.0</td>\n",
       "      <td>0.0</td>\n",
       "      <td>0.00000</td>\n",
       "      <td>...</td>\n",
       "      <td>0.0</td>\n",
       "      <td>0.0</td>\n",
       "      <td>0.042718</td>\n",
       "      <td>0.0</td>\n",
       "      <td>0.0</td>\n",
       "      <td>0.000000</td>\n",
       "      <td>0.0</td>\n",
       "      <td>0.046103</td>\n",
       "      <td>0.0</td>\n",
       "      <td>0.0</td>\n",
       "    </tr>\n",
       "    <tr>\n",
       "      <th>1</th>\n",
       "      <td>0.0</td>\n",
       "      <td>0.0</td>\n",
       "      <td>0.0</td>\n",
       "      <td>0.0</td>\n",
       "      <td>0.0</td>\n",
       "      <td>0.000000</td>\n",
       "      <td>0.0</td>\n",
       "      <td>0.0</td>\n",
       "      <td>0.0</td>\n",
       "      <td>0.00000</td>\n",
       "      <td>...</td>\n",
       "      <td>0.0</td>\n",
       "      <td>0.0</td>\n",
       "      <td>0.000000</td>\n",
       "      <td>0.0</td>\n",
       "      <td>0.0</td>\n",
       "      <td>0.060617</td>\n",
       "      <td>0.0</td>\n",
       "      <td>0.000000</td>\n",
       "      <td>0.0</td>\n",
       "      <td>0.0</td>\n",
       "    </tr>\n",
       "    <tr>\n",
       "      <th>2</th>\n",
       "      <td>0.0</td>\n",
       "      <td>0.0</td>\n",
       "      <td>0.0</td>\n",
       "      <td>0.0</td>\n",
       "      <td>0.0</td>\n",
       "      <td>0.072213</td>\n",
       "      <td>0.0</td>\n",
       "      <td>0.0</td>\n",
       "      <td>0.0</td>\n",
       "      <td>0.00000</td>\n",
       "      <td>...</td>\n",
       "      <td>0.0</td>\n",
       "      <td>0.0</td>\n",
       "      <td>0.000000</td>\n",
       "      <td>0.0</td>\n",
       "      <td>0.0</td>\n",
       "      <td>0.065731</td>\n",
       "      <td>0.0</td>\n",
       "      <td>0.000000</td>\n",
       "      <td>0.0</td>\n",
       "      <td>0.0</td>\n",
       "    </tr>\n",
       "    <tr>\n",
       "      <th>3</th>\n",
       "      <td>0.0</td>\n",
       "      <td>0.0</td>\n",
       "      <td>0.0</td>\n",
       "      <td>0.0</td>\n",
       "      <td>0.0</td>\n",
       "      <td>0.000000</td>\n",
       "      <td>0.0</td>\n",
       "      <td>0.0</td>\n",
       "      <td>0.0</td>\n",
       "      <td>0.00000</td>\n",
       "      <td>...</td>\n",
       "      <td>0.0</td>\n",
       "      <td>0.0</td>\n",
       "      <td>0.000000</td>\n",
       "      <td>0.0</td>\n",
       "      <td>0.0</td>\n",
       "      <td>0.000000</td>\n",
       "      <td>0.0</td>\n",
       "      <td>0.000000</td>\n",
       "      <td>0.0</td>\n",
       "      <td>0.0</td>\n",
       "    </tr>\n",
       "    <tr>\n",
       "      <th>4</th>\n",
       "      <td>0.0</td>\n",
       "      <td>0.0</td>\n",
       "      <td>0.0</td>\n",
       "      <td>0.0</td>\n",
       "      <td>0.0</td>\n",
       "      <td>0.000000</td>\n",
       "      <td>0.0</td>\n",
       "      <td>0.0</td>\n",
       "      <td>0.0</td>\n",
       "      <td>0.33194</td>\n",
       "      <td>...</td>\n",
       "      <td>0.0</td>\n",
       "      <td>0.0</td>\n",
       "      <td>0.000000</td>\n",
       "      <td>0.0</td>\n",
       "      <td>0.0</td>\n",
       "      <td>0.000000</td>\n",
       "      <td>0.0</td>\n",
       "      <td>0.000000</td>\n",
       "      <td>0.0</td>\n",
       "      <td>0.0</td>\n",
       "    </tr>\n",
       "  </tbody>\n",
       "</table>\n",
       "<p>5 rows × 500 columns</p>\n",
       "</div>"
      ],
      "text/plain": [
       "   2010  2012  2013  2nd   3d      able  access  across  action      add  ...  \\\n",
       "0   0.0   0.0   0.0  0.0  0.0  0.000000     0.0     0.0     0.0  0.00000  ...   \n",
       "1   0.0   0.0   0.0  0.0  0.0  0.000000     0.0     0.0     0.0  0.00000  ...   \n",
       "2   0.0   0.0   0.0  0.0  0.0  0.072213     0.0     0.0     0.0  0.00000  ...   \n",
       "3   0.0   0.0   0.0  0.0  0.0  0.000000     0.0     0.0     0.0  0.00000  ...   \n",
       "4   0.0   0.0   0.0  0.0  0.0  0.000000     0.0     0.0     0.0  0.33194  ...   \n",
       "\n",
       "   wordpress  work   working  works  world     write  writing   written  xml  \\\n",
       "0        0.0   0.0  0.042718    0.0    0.0  0.000000      0.0  0.046103  0.0   \n",
       "1        0.0   0.0  0.000000    0.0    0.0  0.060617      0.0  0.000000  0.0   \n",
       "2        0.0   0.0  0.000000    0.0    0.0  0.065731      0.0  0.000000  0.0   \n",
       "3        0.0   0.0  0.000000    0.0    0.0  0.000000      0.0  0.000000  0.0   \n",
       "4        0.0   0.0  0.000000    0.0    0.0  0.000000      0.0  0.000000  0.0   \n",
       "\n",
       "   years  \n",
       "0    0.0  \n",
       "1    0.0  \n",
       "2    0.0  \n",
       "3    0.0  \n",
       "4    0.0  \n",
       "\n",
       "[5 rows x 500 columns]"
      ]
     },
     "execution_count": 29,
     "metadata": {},
     "output_type": "execute_result"
    }
   ],
   "source": [
    "# Display the first few rows of the TF-IDF matrix\n",
    "tfidf_df.head()"
   ]
  },
  {
   "cell_type": "markdown",
   "metadata": {},
   "source": [
    "## Modeling "
   ]
  },
  {
   "cell_type": "code",
   "execution_count": 30,
   "metadata": {},
   "outputs": [
    {
     "data": {
      "text/html": [
       "<div>\n",
       "<style scoped>\n",
       "    .dataframe tbody tr th:only-of-type {\n",
       "        vertical-align: middle;\n",
       "    }\n",
       "\n",
       "    .dataframe tbody tr th {\n",
       "        vertical-align: top;\n",
       "    }\n",
       "\n",
       "    .dataframe thead th {\n",
       "        text-align: right;\n",
       "    }\n",
       "</style>\n",
       "<table border=\"1\" class=\"dataframe\">\n",
       "  <thead>\n",
       "    <tr style=\"text-align: right;\">\n",
       "      <th></th>\n",
       "      <th>Book_name</th>\n",
       "      <th>Cluster</th>\n",
       "    </tr>\n",
       "  </thead>\n",
       "  <tbody>\n",
       "    <tr>\n",
       "      <th>0</th>\n",
       "      <td>Pro ASP.NET Core 3, 8th. Edition</td>\n",
       "      <td>9</td>\n",
       "    </tr>\n",
       "    <tr>\n",
       "      <th>1</th>\n",
       "      <td>Modern Data Mining Algorithms in C++ and CUDA C</td>\n",
       "      <td>0</td>\n",
       "    </tr>\n",
       "    <tr>\n",
       "      <th>2</th>\n",
       "      <td>SAS Stored Processes</td>\n",
       "      <td>9</td>\n",
       "    </tr>\n",
       "    <tr>\n",
       "      <th>3</th>\n",
       "      <td>Advanced Perl Programming</td>\n",
       "      <td>3</td>\n",
       "    </tr>\n",
       "    <tr>\n",
       "      <th>4</th>\n",
       "      <td>Articulate Storyline Essentials</td>\n",
       "      <td>3</td>\n",
       "    </tr>\n",
       "  </tbody>\n",
       "</table>\n",
       "</div>"
      ],
      "text/plain": [
       "                                         Book_name  Cluster\n",
       "0                 Pro ASP.NET Core 3, 8th. Edition        9\n",
       "1  Modern Data Mining Algorithms in C++ and CUDA C        0\n",
       "2                             SAS Stored Processes        9\n",
       "3                        Advanced Perl Programming        3\n",
       "4                  Articulate Storyline Essentials        3"
      ]
     },
     "execution_count": 30,
     "metadata": {},
     "output_type": "execute_result"
    }
   ],
   "source": [
    "# Define the number of clusters (same as the original NMF components)\n",
    "num_clusters = 10  \n",
    "\n",
    "# Train a K-Means clustering model\n",
    "kmeans_model = KMeans(n_clusters=num_clusters, random_state=42, n_init=10)\n",
    "kmeans_model.fit(tfidf_matrix)\n",
    "\n",
    "# Assign each book a cluster\n",
    "data[\"Cluster\"] = kmeans_model.predict(tfidf_matrix)\n",
    "\n",
    "# Display cluster assignments\n",
    "data[[\"Book_name\", \"Cluster\"]].head()\n"
   ]
  },
  {
   "cell_type": "markdown",
   "metadata": {},
   "source": [
    "## Get topics "
   ]
  },
  {
   "cell_type": "code",
   "execution_count": 32,
   "metadata": {},
   "outputs": [
    {
     "name": "stdout",
     "output_type": "stream",
     "text": [
      "Cluster 0: data, python, analysis, book, learning, big, machine, learn, using, programming\n",
      "Cluster 1: game, games, unity, development, create, engine, book, 3d, learn, android\n",
      "Cluster 2: java, programming, book, applications, web, edition, development, application, language, using\n",
      "Cluster 3: book, programming, learn, using, use, applications, description, guide, design, software\n",
      "Cluster 4: oracle, sql, database, server, data, book, performance, databases, 2012, business\n",
      "Cluster 5: windows, microsoft, sharepoint, excel, office, 2010, 2013, book, new, server\n",
      "Cluster 6: network, security, networks, book, linux, wireless, networking, systems, system, secure\n",
      "Cluster 7: exam, study, certification, practice, guide, questions, review, microsoft, security, cisco\n",
      "Cluster 8: android, ios, apps, app, iphone, swift, mobile, development, book, apple\n",
      "Cluster 9: web, javascript, applications, book, html5, application, development, css, build, jquery\n"
     ]
    }
   ],
   "source": [
    "# Retrieve feature names from the TF-IDF vectorizer\n",
    "feature_names = tfidf_vectorizer.get_feature_names_out()\n",
    "\n",
    "# Get cluster centers (each cluster's representative word importance)\n",
    "cluster_centers = kmeans_model.cluster_centers_\n",
    "\n",
    "# Extract keywords for each cluster\n",
    "topics = []\n",
    "\n",
    "for cluster_idx, cluster_center in enumerate(cluster_centers):\n",
    "    # Get the top 10 words that define the cluster\n",
    "    top_words = [feature_names[i] for i in cluster_center.argsort()[:-11:-1]]\n",
    "    print(f\"Cluster {cluster_idx}: {', '.join(top_words)}\")\n",
    "    topics.append(\", \".join(top_words))"
   ]
  },
  {
   "cell_type": "code",
   "execution_count": 33,
   "metadata": {},
   "outputs": [],
   "source": [
    "categories = {\n",
    "    0: \"Data Science and Machine Learning\",\n",
    "    1: \"Game Development\",\n",
    "    2: \"Java Programming and Web Applications\",\n",
    "    3: \"General Programming and Software Development\",\n",
    "    4: \"Databases and SQL Administration\",\n",
    "    5: \"Microsoft Technologies (Windows, Office, SharePoint)\",\n",
    "    6: \"Networking and Cybersecurity\",\n",
    "    7: \"Certification and Exam Preparation\",\n",
    "    8: \"Mobile App Development (Android & iOS)\",\n",
    "    9: \"Web Development (HTML, CSS, JavaScript)\"\n",
    "}"
   ]
  },
  {
   "cell_type": "code",
   "execution_count": 34,
   "metadata": {},
   "outputs": [],
   "source": [
    "# Assign categories based on K-Means clustering\n",
    "data[\"AssignedCluster\"] = kmeans_model.predict(tfidf_matrix)\n",
    "data[\"Topic_Keywords\"] = [topics[i] for i in data[\"AssignedCluster\"]]\n",
    "data[\"Topic\"] = data[\"AssignedCluster\"].map(categories)"
   ]
  },
  {
   "cell_type": "code",
   "execution_count": 35,
   "metadata": {},
   "outputs": [
    {
     "data": {
      "text/html": [
       "<div>\n",
       "<style scoped>\n",
       "    .dataframe tbody tr th:only-of-type {\n",
       "        vertical-align: middle;\n",
       "    }\n",
       "\n",
       "    .dataframe tbody tr th {\n",
       "        vertical-align: top;\n",
       "    }\n",
       "\n",
       "    .dataframe thead th {\n",
       "        text-align: right;\n",
       "    }\n",
       "</style>\n",
       "<table border=\"1\" class=\"dataframe\">\n",
       "  <thead>\n",
       "    <tr style=\"text-align: right;\">\n",
       "      <th></th>\n",
       "      <th>Book_name</th>\n",
       "      <th>Topic</th>\n",
       "      <th>Topic_Keywords</th>\n",
       "    </tr>\n",
       "  </thead>\n",
       "  <tbody>\n",
       "    <tr>\n",
       "      <th>0</th>\n",
       "      <td>Pro ASP.NET Core 3, 8th. Edition</td>\n",
       "      <td>Web Development (HTML, CSS, JavaScript)</td>\n",
       "      <td>web, javascript, applications, book, html5, ap...</td>\n",
       "    </tr>\n",
       "    <tr>\n",
       "      <th>1</th>\n",
       "      <td>Modern Data Mining Algorithms in C++ and CUDA C</td>\n",
       "      <td>Data Science and Machine Learning</td>\n",
       "      <td>data, python, analysis, book, learning, big, m...</td>\n",
       "    </tr>\n",
       "    <tr>\n",
       "      <th>2</th>\n",
       "      <td>SAS Stored Processes</td>\n",
       "      <td>Web Development (HTML, CSS, JavaScript)</td>\n",
       "      <td>web, javascript, applications, book, html5, ap...</td>\n",
       "    </tr>\n",
       "    <tr>\n",
       "      <th>3</th>\n",
       "      <td>Advanced Perl Programming</td>\n",
       "      <td>General Programming and Software Development</td>\n",
       "      <td>book, programming, learn, using, use, applicat...</td>\n",
       "    </tr>\n",
       "    <tr>\n",
       "      <th>4</th>\n",
       "      <td>Articulate Storyline Essentials</td>\n",
       "      <td>General Programming and Software Development</td>\n",
       "      <td>book, programming, learn, using, use, applicat...</td>\n",
       "    </tr>\n",
       "  </tbody>\n",
       "</table>\n",
       "</div>"
      ],
      "text/plain": [
       "                                         Book_name  \\\n",
       "0                 Pro ASP.NET Core 3, 8th. Edition   \n",
       "1  Modern Data Mining Algorithms in C++ and CUDA C   \n",
       "2                             SAS Stored Processes   \n",
       "3                        Advanced Perl Programming   \n",
       "4                  Articulate Storyline Essentials   \n",
       "\n",
       "                                          Topic  \\\n",
       "0       Web Development (HTML, CSS, JavaScript)   \n",
       "1             Data Science and Machine Learning   \n",
       "2       Web Development (HTML, CSS, JavaScript)   \n",
       "3  General Programming and Software Development   \n",
       "4  General Programming and Software Development   \n",
       "\n",
       "                                      Topic_Keywords  \n",
       "0  web, javascript, applications, book, html5, ap...  \n",
       "1  data, python, analysis, book, learning, big, m...  \n",
       "2  web, javascript, applications, book, html5, ap...  \n",
       "3  book, programming, learn, using, use, applicat...  \n",
       "4  book, programming, learn, using, use, applicat...  "
      ]
     },
     "execution_count": 35,
     "metadata": {},
     "output_type": "execute_result"
    }
   ],
   "source": [
    "# Display the first few assigned topics\n",
    "data[[\"Book_name\", \"Topic\", \"Topic_Keywords\"]].head()"
   ]
  },
  {
   "cell_type": "code",
   "execution_count": 37,
   "metadata": {},
   "outputs": [
    {
     "name": "stdout",
     "output_type": "stream",
     "text": [
      "\n",
      "Book Description:\n",
      "This bestselling comprehensive guide to ASP.NET Core is the only book you need for ASP.NET Core development. Period.\n",
      "Professional developers will produce leaner applications for the ASP.NET Core platform using the guidance in this full-color book, now in its 8th edition and updated for ASP.NET Core 3. It contains detailed explanations of the ASP.NET Core platform and the application frameworks it supports. This edition puts ASP.NET Core 3 into context and dives deep into the tools and techniques required to build modern, extensible, web applications. New features and capabilities such as MVC 3, Razor Pages, Blazor Server, and Blazor WebAssembly are covered, along with demonstrations of how they are applied.\n",
      "ASP.NET Core 3 is the latest evolution of Microsoft’s ASP.NET web platform and provides a “host-agnostic” framework and a high-productivity programming model that promotes cleaner code architecture, test-driven development, and powerful extensibility.\n",
      "Best-selling author Adam Freeman has thoroughly revised this market-leading book and explains how to get the most from ASP.NET Core 3. He starts with the nuts-and-bolts topics, teaching you about middleware components, built-in services, request model binding, and more. As you gain knowledge and confidence, he introduces increasingly more complex topics and advanced features, including endpoint routing and dependency injection. He goes in depth to give you the knowledge you need.\n",
      "This book follows the same format and style as the popular previous editions but brings everything up-to-date for the new ASP.NET Core 3 release and broadens the focus to include the entire ASP.NET Core platform. You will appreciate the fully worked case study of a functioning ASP.NET Core application that you can use as a template for your own projects.\n",
      "What You Will Learn\n",
      "\n",
      "Build a solid foundation and skill set for working with the entire ASP.NET Core platform\n",
      "Apply the new ASP.NET Core 3 features in your developer environment\n",
      "See how to create RESTful web services, web applications, and client-side applications\n",
      "Build on your existing knowledge to get up and running with new programming models quickly and effectively\n",
      "\n",
      "Who This Book Is For\n",
      "This book is for Microsoft developers and assumes a basic knowledge of web development and C#. While written for professionals who want to incorporate the latest improvements and functionality of ASP.NET Core 3 into their own projects, it also serves as an in-depth and complete reference on the topic. Beginners with some background in Microsoft web development will also benefit from the comprehensive coverage of the topic.\n",
      "\n"
     ]
    }
   ],
   "source": [
    "print(data.Description[0])"
   ]
  },
  {
   "cell_type": "markdown",
   "metadata": {},
   "source": [
    "## Predicting a new category based on a book description"
   ]
  },
  {
   "cell_type": "code",
   "execution_count": 39,
   "metadata": {},
   "outputs": [],
   "source": [
    "bookdescription = \"\"\"As data floods into your company, you need to put it to work right away―and SQL is the best tool for the job. With the latest edition of this introductory guide, author Alan Beaulieu helps developers get up to speed with SQL fundamentals for writing database applications, performing administrative tasks, and generating reports. You’ll find new chapters on SQL and big data, analytic functions, and working with very large databases.\n",
    "\n",
    "Each chapter presents a self-contained lesson on a key SQL concept or technique using numerous illustrations and annotated examples. Exercises let you practice the skills you learn. Knowledge of SQL is a must for interacting with data. With Learning SQL, you’ll quickly discover how to put the power and flexibility of this language to work.\n",
    "\n",
    "Move quickly through SQL basics and several advanced features\n",
    "Use SQL data statements to generate, manipulate, and retrieve data\n",
    "Create database objects, such as tables, indexes, and constraints with SQL schema statements\n",
    "Learn how datasets interact with queries; understand the importance of subqueries\n",
    "Convert and manipulate data with SQL’s built-in functions and use conditional logic in data statements\"\"\""
   ]
  },
  {
   "cell_type": "code",
   "execution_count": 40,
   "metadata": {},
   "outputs": [
    {
     "name": "stdout",
     "output_type": "stream",
     "text": [
      "Book Category: Databases and SQL Administration\n",
      "Related Topics: Data Science and Machine Learning, General Programming and Software Development\n"
     ]
    }
   ],
   "source": [
    "\n",
    "# Clean the book description\n",
    "bookdescription_cleaned = preprocess_text(bookdescription)\n",
    "\n",
    "# Convert the cleaned text into TF-IDF features\n",
    "bookdescription_vectorized = tfidf_vectorizer.transform([bookdescription_cleaned])\n",
    "\n",
    "# Predict the cluster\n",
    "predicted_cluster = kmeans_model.predict(bookdescription_vectorized)[0]\n",
    "\n",
    "# Get distances to all clusters\n",
    "distances = kmeans_model.transform(bookdescription_vectorized)[0]\n",
    "\n",
    "# Get the top 3 most related clusters\n",
    "closest_clusters = distances.argsort()[:3]\n",
    "\n",
    "# Get the main category and two related topics\n",
    "book_category = categories.get(closest_clusters[0], \"Unknown\")\n",
    "related_topics = [categories.get(closest_clusters[i], \"Unknown\") for i in range(1, 3)]\n",
    "\n",
    "# Display the results\n",
    "print(f\"Book Category: {book_category}\")\n",
    "print(f\"Related Topics: {', '.join(related_topics)}\")"
   ]
  },
  {
   "cell_type": "code",
   "execution_count": 41,
   "metadata": {},
   "outputs": [
    {
     "data": {
      "text/html": [
       "<div>\n",
       "<style scoped>\n",
       "    .dataframe tbody tr th:only-of-type {\n",
       "        vertical-align: middle;\n",
       "    }\n",
       "\n",
       "    .dataframe tbody tr th {\n",
       "        vertical-align: top;\n",
       "    }\n",
       "\n",
       "    .dataframe thead th {\n",
       "        text-align: right;\n",
       "    }\n",
       "</style>\n",
       "<table border=\"1\" class=\"dataframe\">\n",
       "  <thead>\n",
       "    <tr style=\"text-align: right;\">\n",
       "      <th></th>\n",
       "      <th>2010</th>\n",
       "      <th>2012</th>\n",
       "      <th>2013</th>\n",
       "      <th>2nd</th>\n",
       "      <th>3d</th>\n",
       "      <th>able</th>\n",
       "      <th>access</th>\n",
       "      <th>across</th>\n",
       "      <th>action</th>\n",
       "      <th>add</th>\n",
       "      <th>...</th>\n",
       "      <th>wordpress</th>\n",
       "      <th>work</th>\n",
       "      <th>working</th>\n",
       "      <th>works</th>\n",
       "      <th>world</th>\n",
       "      <th>write</th>\n",
       "      <th>writing</th>\n",
       "      <th>written</th>\n",
       "      <th>xml</th>\n",
       "      <th>years</th>\n",
       "    </tr>\n",
       "  </thead>\n",
       "  <tbody>\n",
       "    <tr>\n",
       "      <th>0</th>\n",
       "      <td>0.0</td>\n",
       "      <td>0.0</td>\n",
       "      <td>0.0</td>\n",
       "      <td>0.0</td>\n",
       "      <td>0.0</td>\n",
       "      <td>0.0</td>\n",
       "      <td>0.0</td>\n",
       "      <td>0.0</td>\n",
       "      <td>0.0</td>\n",
       "      <td>0.0</td>\n",
       "      <td>...</td>\n",
       "      <td>0.0</td>\n",
       "      <td>0.10188</td>\n",
       "      <td>0.060861</td>\n",
       "      <td>0.0</td>\n",
       "      <td>0.0</td>\n",
       "      <td>0.0</td>\n",
       "      <td>0.074815</td>\n",
       "      <td>0.0</td>\n",
       "      <td>0.0</td>\n",
       "      <td>0.0</td>\n",
       "    </tr>\n",
       "  </tbody>\n",
       "</table>\n",
       "<p>1 rows × 500 columns</p>\n",
       "</div>"
      ],
      "text/plain": [
       "   2010  2012  2013  2nd   3d  able  access  across  action  add  ...  \\\n",
       "0   0.0   0.0   0.0  0.0  0.0   0.0     0.0     0.0     0.0  0.0  ...   \n",
       "\n",
       "   wordpress     work   working  works  world  write   writing  written  xml  \\\n",
       "0        0.0  0.10188  0.060861    0.0    0.0    0.0  0.074815      0.0  0.0   \n",
       "\n",
       "   years  \n",
       "0    0.0  \n",
       "\n",
       "[1 rows x 500 columns]"
      ]
     },
     "execution_count": 41,
     "metadata": {},
     "output_type": "execute_result"
    }
   ],
   "source": [
    "# Convert vectorized features into a DataFrame for visualization\n",
    "pd.DataFrame(bookdescription_vectorized.toarray(), columns=tfidf_vectorizer.get_feature_names_out())"
   ]
  },
  {
   "cell_type": "code",
   "execution_count": 42,
   "metadata": {},
   "outputs": [
    {
     "data": {
      "text/plain": [
       "['models/kmeans_model.pkl']"
      ]
     },
     "execution_count": 42,
     "metadata": {},
     "output_type": "execute_result"
    }
   ],
   "source": [
    "# Create a folder for saved models\n",
    "if not os.path.exists(\"models\"):\n",
    "    os.mkdir(\"models\")\n",
    "\n",
    "# Save TF-IDF vectorizer and K-Means model\n",
    "joblib.dump(tfidf_vectorizer, \"models/tfidf_vectorizer.pkl\")\n",
    "joblib.dump(kmeans_model, \"models/kmeans_model.pkl\")\n"
   ]
  },
  {
   "cell_type": "markdown",
   "metadata": {},
   "source": [
    "## Working with ipywidgets"
   ]
  },
  {
   "cell_type": "code",
   "execution_count": 43,
   "metadata": {},
   "outputs": [],
   "source": [
    "import numpy as np\n",
    "import ipywidgets as widgets\n",
    "from ipywidgets import interact\n",
    "from IPython.display import display"
   ]
  },
  {
   "cell_type": "code",
   "execution_count": 44,
   "metadata": {},
   "outputs": [],
   "source": [
    "# Updated categorizeBooks function using K-Means\n",
    "def categorizeBooks(bookdescription):\n",
    "    # Clean the input text\n",
    "    bookdescription_cleaned = preprocess_text(bookdescription)\n",
    "\n",
    "    # Convert to TF-IDF features\n",
    "    bookdescription_vectorized = tfidf_vectorizer.transform([bookdescription_cleaned])\n",
    "\n",
    "    # Predict the primary category\n",
    "    predicted_cluster = kmeans_model.predict(bookdescription_vectorized)[0]\n",
    "\n",
    "    # Get distances to all clusters\n",
    "    distances = kmeans_model.transform(bookdescription_vectorized)[0]\n",
    "\n",
    "    # Identify the top 3 most related clusters\n",
    "    closest_clusters = np.argsort(distances)[:3]\n",
    "\n",
    "    # Assign category labels\n",
    "    main_category = categories.get(closest_clusters[0], \"Unknown\")\n",
    "    related_topics = [categories.get(closest_clusters[i], \"Unknown\") for i in range(1, 3)]\n",
    "\n",
    "    return f\"Category: {main_category} | Related Topics: {', '.join(related_topics)}\""
   ]
  },
  {
   "cell_type": "code",
   "execution_count": 45,
   "metadata": {},
   "outputs": [
    {
     "data": {
      "application/vnd.jupyter.widget-view+json": {
       "model_id": "208f60d488f64380878562fa86f31a7f",
       "version_major": 2,
       "version_minor": 0
      },
      "text/plain": [
       "interactive(children=(Textarea(value='', description='Book Description:', layout=Layout(height='150px', width=…"
      ]
     },
     "metadata": {},
     "output_type": "display_data"
    }
   ],
   "source": [
    "# Create an interactive widget for categorization\n",
    "@interact(book_description=widgets.Textarea(\n",
    "    value=\"\",\n",
    "    placeholder=\"Type a book description...\",\n",
    "    description=\"Book Description:\",\n",
    "    layout=widgets.Layout(width=\"500px\", height=\"150px\")\n",
    "))\n",
    "def interactive_categorize(book_description):\n",
    "    if book_description.strip():\n",
    "        category = categorizeBooks(book_description)\n",
    "        print(category)\n",
    "    else:\n",
    "        print(\"Please enter a valid book description.\")"
   ]
  }
 ],
 "metadata": {
  "kernelspec": {
   "display_name": "Python 3",
   "language": "python",
   "name": "python3"
  },
  "language_info": {
   "codemirror_mode": {
    "name": "ipython",
    "version": 3
   },
   "file_extension": ".py",
   "mimetype": "text/x-python",
   "name": "python",
   "nbconvert_exporter": "python",
   "pygments_lexer": "ipython3",
   "version": "3.12.6"
  }
 },
 "nbformat": 4,
 "nbformat_minor": 2
}
